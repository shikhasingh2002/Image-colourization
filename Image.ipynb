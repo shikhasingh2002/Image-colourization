{
  "metadata": {
    "kernelspec": {
      "display_name": "Python 3",
      "language": "python",
      "name": "python3"
    },
    "language_info": {
      "name": "python",
      "version": "3.6.6",
      "mimetype": "text/x-python",
      "codemirror_mode": {
        "name": "ipython",
        "version": 3
      },
      "pygments_lexer": "ipython3",
      "nbconvert_exporter": "python",
      "file_extension": ".py"
    },
    "kaggle": {
      "accelerator": "gpu",
      "dataSources": [
        {
          "sourceId": 36285,
          "sourceType": "datasetVersion",
          "datasetId": 28335
        }
      ],
      "dockerImageVersionId": 20477,
      "isInternetEnabled": false,
      "language": "python",
      "sourceType": "notebook",
      "isGpuEnabled": true
    },
    "colab": {
      "provenance": []
    }
  },
  "nbformat_minor": 0,
  "nbformat": 4,
  "cells": [
    {
      "cell_type": "markdown",
      "source": [
        "## Image Colorization with deep convolutional Neural Network\n",
        "\n",
        "\n",
        "\n",
        "The latest neural network technique involves the use of Resnet for feature extraction and combines or fusing it with a layer that comes after pooling/downsampling of the input or encoded layer and then decoding it with convolution layers through upsampling to predict the colored image. <br>\n",
        "\n"
      ],
      "metadata": {
        "_uuid": "c8366f4db58f36635e51c12d81d8fbd5e495b40a",
        "editable": false,
        "id": "y_PwwPTuVzUQ"
      }
    },
    {
      "cell_type": "code",
      "source": [
        "HEIGHT=224\n",
        "WIDTH=224\n",
        "ImagePath=\"../input/dataset/dataset_updated/training_set/painting/\"\n",
        "\n",
        "def ExtractInput(path):\n",
        "    X_img=[]\n",
        "    y_img=[]\n",
        "    for imageDir in os.listdir(ImagePath):\n",
        "        try:\n",
        "            img = cv2.imread(ImagePath + imageDir)\n",
        "            img = cv2.cvtColor(img, cv2.COLOR_BGR2RGB)\n",
        "            img = cv2.cvtColor(img, cv2.COLOR_RGB2GRAY)\n",
        "            img = cv2.cvtColor(img, cv2.COLOR_GRAY2RGB)\n",
        "\n",
        "            img = img.astype(np.float32)\n",
        "            img_lab = cv2.cvtColor(img, cv2.COLOR_RGB2Lab)\n",
        "            img_lab_rs = cv2.resize(img_lab, (WIDTH, HEIGHT)) # resize image to network input size\n",
        "            img_l = img_lab_rs[:,:,0] # pull out L channel\n",
        "            #img_l -= 50 # subtract 50 for mean-centering\n",
        "            img_ab = img_lab_rs[:,:,1:]#Extracting the ab channel\n",
        "            img_ab = img_ab/128\n",
        "            #The true color values range between -128 and 128. This is the default interval\n",
        "            #in the Lab color space. By dividing them by 128, they too fall within the -1 to 1 interval.\n",
        "            X_img.append(img_l)\n",
        "            y_img.append(img_ab)\n",
        "        except:\n",
        "            pass\n",
        "    X_img = np.array(X_img)\n",
        "    y_img = np.array(y_img)\n",
        "\n",
        "    return X_img,y_img"
      ],
      "metadata": {
        "trusted": true,
        "_uuid": "54637e5a7e4ede2f8373b8ce2b947388d5faadfc",
        "editable": false,
        "id": "-iWL-yAgVzUZ"
      },
      "outputs": [],
      "execution_count": null
    },
    {
      "cell_type": "code",
      "source": [
        "X_,y_ = ExtractInput(ImagePath) # Data-preprocessing"
      ],
      "metadata": {
        "trusted": true,
        "_uuid": "c18253590d65d3e5bea1cf7a4555aa5f6b6c9b5f",
        "editable": false,
        "id": "DO63lj3MVzUa"
      },
      "outputs": [],
      "execution_count": null
    },
    {
      "cell_type": "code",
      "source": [
        "X_train,X_val,y_train,y_val = train_test_split(X_,y_, random_state=42)"
      ],
      "metadata": {
        "trusted": true,
        "_uuid": "932995af0280a2b953ba17fafe19dd7e17245531",
        "editable": false,
        "id": "7QxO9TFVVzUa"
      },
      "outputs": [],
      "execution_count": null
    },
    {
      "cell_type": "code",
      "source": [
        "K.clear_session()\n",
        "def InstantiateModel(in_):\n",
        "    model_ = Conv2D(16,(3,3),padding='same',strides=1)(in_)\n",
        "    model_ = LeakyReLU()(model_)\n",
        "    #model_ = Conv2D(64,(3,3), activation='relu',strides=1)(model_)\n",
        "    model_ = Conv2D(32,(3,3),padding='same',strides=1)(model_)\n",
        "    model_ = LeakyReLU()(model_)\n",
        "    model_ = BatchNormalization()(model_)\n",
        "    model_ = MaxPooling2D(pool_size=(2,2),padding='same')(model_)\n",
        "\n",
        "    model_ = Conv2D(64,(3,3),padding='same',strides=1)(model_)\n",
        "    model_ = LeakyReLU()(model_)\n",
        "    model_ = BatchNormalization()(model_)\n",
        "    model_ = MaxPooling2D(pool_size=(2,2),padding='same')(model_)\n",
        "\n",
        "    model_ = Conv2D(128,(3,3),padding='same',strides=1)(model_)\n",
        "    model_ = LeakyReLU()(model_)\n",
        "    model_ = BatchNormalization()(model_)\n",
        "\n",
        "    model_ = Conv2D(256,(3,3),padding='same',strides=1)(model_)\n",
        "    model_ = LeakyReLU()(model_)\n",
        "    model_ = BatchNormalization()(model_)\n",
        "\n",
        "    model_ = UpSampling2D((2, 2))(model_)\n",
        "    model_ = Conv2D(128,(3,3),padding='same',strides=1)(model_)\n",
        "    model_ = LeakyReLU()(model_)\n",
        "    model_ = BatchNormalization()(model_)\n",
        "\n",
        "    model_ = UpSampling2D((2, 2))(model_)\n",
        "    model_ = Conv2D(64,(3,3), padding='same',strides=1)(model_)\n",
        "    model_ = LeakyReLU()(model_)\n",
        "    #model_ = BatchNormalization()(model_)\n",
        "\n",
        "    concat_ = concatenate([model_, in_])\n",
        "\n",
        "    model_ = Conv2D(64,(3,3), padding='same',strides=1)(concat_)\n",
        "    model_ = LeakyReLU()(model_)\n",
        "    model_ = BatchNormalization()(model_)\n",
        "\n",
        "    model_ = Conv2D(32,(3,3),padding='same',strides=1)(model_)\n",
        "    model_ = LeakyReLU()(model_)\n",
        "    #model_ = BatchNormalization()(model_)\n",
        "\n",
        "    model_ = Conv2D(2,(3,3), activation='tanh',padding='same',strides=1)(model_)\n",
        "\n",
        "    return model_"
      ],
      "metadata": {
        "trusted": true,
        "_uuid": "99db22fd2f7070438ee5856445edb3db8941e587",
        "editable": false,
        "id": "s8BZqQO8VzUa"
      },
      "outputs": [],
      "execution_count": null
    },
    {
      "cell_type": "code",
      "source": [
        "Input_Sample = Input(shape=(HEIGHT, WIDTH,1))\n",
        "Output_ = InstantiateModel(Input_Sample)\n",
        "Model_Colourization = Model(inputs=Input_Sample, outputs=Output_)"
      ],
      "metadata": {
        "trusted": true,
        "_uuid": "006c5cf517de54754e6b5626a6ed7aa44a44ed98",
        "editable": false,
        "id": "de5uVNckVzUa"
      },
      "outputs": [],
      "execution_count": null
    },
    {
      "cell_type": "code",
      "source": [
        "LEARNING_RATE = 0.001\n",
        "Model_Colourization.compile(optimizer=Adam(lr=LEARNING_RATE),\n",
        "                            loss='mean_squared_error')\n",
        "Model_Colourization.summary()"
      ],
      "metadata": {
        "trusted": true,
        "_uuid": "4ec15d8ffebb501a833de0aa81bea578fb9639cc",
        "editable": false,
        "id": "fdsU20F7VzUb"
      },
      "outputs": [],
      "execution_count": null
    },
    {
      "cell_type": "code",
      "source": [
        "def GenerateInputs(X_,y_):\n",
        "    for i in range(len(X_)):\n",
        "        X_input = X_[i].reshape(1,224,224,1)\n",
        "        y_input = y_[i].reshape(1,224,224,2)\n",
        "        yield (X_input,y_input)\n",
        "Model_Colourization.fit_generator(GenerateInputs(X_,y_),epochs=53,verbose=1,steps_per_epoch=38,shuffle=True)#,validation_data=GenerateInputs(X_val, y_val))"
      ],
      "metadata": {
        "trusted": true,
        "_uuid": "9677c12db453be9f509580892d97e1762e65b8b7",
        "editable": false,
        "id": "T7azQN0bVzUb"
      },
      "outputs": [],
      "execution_count": null
    },
    {
      "cell_type": "code",
      "source": [
        "TestImagePath=\"../input/dataset/dataset_updated/training_set/iconography/\""
      ],
      "metadata": {
        "trusted": true,
        "_uuid": "3998fb3c018d248dc3d905dc1911e0c32994402c",
        "editable": false,
        "id": "AVq7BkveVzUb"
      },
      "outputs": [],
      "execution_count": null
    },
    {
      "cell_type": "code",
      "source": [
        "def ExtractTestInput(ImagePath):\n",
        "    img = cv2.imread(ImagePath)\n",
        "    img = cv2.cvtColor(img, cv2.COLOR_BGR2RGB)\n",
        "    img = cv2.cvtColor(img, cv2.COLOR_RGB2GRAY)\n",
        "    img_ = cv2.cvtColor(img, cv2.COLOR_GRAY2RGB)\n",
        "    img_ = cv2.cvtColor(img_, cv2.COLOR_RGB2Lab)\n",
        "    img_=img_.astype(np.float32)\n",
        "    img_lab_rs = cv2.resize(img_, (WIDTH, HEIGHT)) # resize image to network input size\n",
        "    img_l = img_lab_rs[:,:,0] # pull out L channel\n",
        "    #img_l -= 50\n",
        "    img_l_reshaped = img_l.reshape(1,224,224,1)\n",
        "\n",
        "    return img_l_reshaped"
      ],
      "metadata": {
        "trusted": true,
        "_uuid": "c8505735fa0295ca6b01694872a067ce64571af7",
        "editable": false,
        "id": "BUmGQDGYVzUc"
      },
      "outputs": [],
      "execution_count": null
    },
    {
      "cell_type": "code",
      "source": [
        "ImagePath=TestImagePath+\"15.jpg\"\n",
        "image_for_test = ExtractTestInput(ImagePath)\n",
        "Prediction = Model_Colourization.predict(image_for_test)\n",
        "Prediction = Prediction*128\n",
        "Prediction=Prediction.reshape(224,224,2)"
      ],
      "metadata": {
        "trusted": true,
        "_uuid": "05ab70295c9c4ee4b5ee994ffb9314ae08e38c8b",
        "editable": false,
        "id": "v9kWSlu8VzUc"
      },
      "outputs": [],
      "execution_count": null
    },
    {
      "cell_type": "code",
      "source": [
        "plt.figure(figsize=(30,20))\n",
        "plt.subplot(5,5,1)\n",
        "img = cv2.imread(TestImagePath+\"15.jpg\")\n",
        "img_1 = cv2.cvtColor(img,cv2.COLOR_BGR2RGB)\n",
        "img = cv2.cvtColor(img_1, cv2.COLOR_RGB2GRAY)\n",
        "img = cv2.cvtColor(img, cv2.COLOR_GRAY2RGB)\n",
        "img = cv2.resize(img, (224, 224))\n",
        "plt.imshow(img)\n",
        "\n",
        "plt.subplot(5,5,1+1)\n",
        "img_ = cv2.cvtColor(img, cv2.COLOR_RGB2Lab)\n",
        "img_[:,:,1:] = Prediction\n",
        "img_ = cv2.cvtColor(img_, cv2.COLOR_Lab2RGB)\n",
        "plt.title(\"Predicted Image\")\n",
        "plt.imshow(img_)\n",
        "\n",
        "plt.subplot(5,5,1+2)\n",
        "plt.title(\"Ground truth\")\n",
        "plt.imshow(img_1)"
      ],
      "metadata": {
        "trusted": true,
        "_uuid": "3337b2879b702a02b512c191561331c13f3b3d8e",
        "editable": false,
        "id": "uhMVCebKVzUc"
      },
      "outputs": [],
      "execution_count": null
    },
    {
      "cell_type": "code",
      "source": [
        "ImagePath=TestImagePath+\"314.jpg\"\n",
        "image_for_test = ExtractTestInput(ImagePath)\n",
        "Prediction_1 = Model_Colourization.predict(image_for_test)\n",
        "Prediction_1 = Prediction_1*128\n",
        "Prediction_1=Prediction_1.reshape(224,224,2)"
      ],
      "metadata": {
        "trusted": true,
        "_uuid": "08fae204d79ac3f43efd67b44fa84ea389b27097",
        "editable": false,
        "id": "CcilKr-8VzUc"
      },
      "outputs": [],
      "execution_count": null
    },
    {
      "cell_type": "code",
      "source": [
        "plt.figure(figsize=(30,20))\n",
        "plt.subplot(5,5,1)\n",
        "img = cv2.imread(TestImagePath+\"314.jpg\")\n",
        "img_1 = cv2.cvtColor(img,cv2.COLOR_BGR2RGB)\n",
        "img = cv2.cvtColor(img_1, cv2.COLOR_RGB2GRAY)\n",
        "img = cv2.cvtColor(img, cv2.COLOR_GRAY2RGB)\n",
        "img = cv2.resize(img, (224, 224))\n",
        "plt.imshow(img)\n",
        "\n",
        "plt.subplot(5,5,1+1)\n",
        "img_ = cv2.cvtColor(img, cv2.COLOR_RGB2Lab)\n",
        "img_[:,:,1:] = Prediction_1\n",
        "img_ = cv2.cvtColor(img_, cv2.COLOR_Lab2RGB)\n",
        "plt.title(\"Predicted Image\")\n",
        "plt.imshow(img_)\n",
        "\n",
        "plt.subplot(5,5,1+2)\n",
        "plt.title(\"Ground truth\")\n",
        "plt.imshow(img_1)"
      ],
      "metadata": {
        "trusted": true,
        "_uuid": "479ab4aa0e6886a4d4190de9db7b1740f2035792",
        "editable": false,
        "id": "tTnrQ_MuVzUc"
      },
      "outputs": [],
      "execution_count": null
    },
    {
      "cell_type": "code",
      "source": [
        "ImagePath=TestImagePath+\"698.jpg\"\n",
        "image_for_test = ExtractTestInput(ImagePath)\n",
        "Prediction_2 = Model_Colourization.predict(image_for_test)\n",
        "Prediction_2 = Prediction_2*128\n",
        "Prediction_2=Prediction_2.reshape(224,224,2)"
      ],
      "metadata": {
        "trusted": true,
        "_uuid": "15cb666ca91d8392fe0803ebb5d91223dc13cdb5",
        "editable": false,
        "id": "2Rt8FkRNVzUd"
      },
      "outputs": [],
      "execution_count": null
    },
    {
      "cell_type": "code",
      "source": [
        "plt.figure(figsize=(30,20))\n",
        "plt.subplot(5,5,1)\n",
        "img = cv2.imread(TestImagePath+\"698.jpg\")\n",
        "img_1 = cv2.cvtColor(img,cv2.COLOR_BGR2RGB)\n",
        "img = cv2.cvtColor(img_1, cv2.COLOR_RGB2GRAY)\n",
        "img = cv2.cvtColor(img, cv2.COLOR_GRAY2RGB)\n",
        "img = cv2.resize(img, (224, 224))\n",
        "plt.imshow(img)\n",
        "\n",
        "plt.subplot(5,5,1+1)\n",
        "img_ = cv2.cvtColor(img, cv2.COLOR_RGB2Lab)\n",
        "img_[:,:,1:] = Prediction_2\n",
        "img_ = cv2.cvtColor(img_, cv2.COLOR_Lab2RGB)\n",
        "plt.title(\"Predicted Image\")\n",
        "plt.imshow(img_)\n",
        "\n",
        "plt.subplot(5,5,1+2)\n",
        "plt.title(\"Ground truth\")\n",
        "plt.imshow(img_1)"
      ],
      "metadata": {
        "trusted": true,
        "_uuid": "bdf01741fb5abd80f23da5952402abfe893558b7",
        "editable": false,
        "id": "41xOvl9aVzUd"
      },
      "outputs": [],
      "execution_count": null
    },
    {
      "cell_type": "code",
      "source": [
        "TestImagePath=\"../input/dataset/dataset_updated/training_set/sculpture/240.jpg\"\n",
        "image_for_test = ExtractTestInput(TestImagePath)\n",
        "Prediction_3 = Model_Colourization.predict(image_for_test)\n",
        "Prediction_3 = Prediction_3*128\n",
        "Prediction_3=Prediction_3.reshape(224,224,2)"
      ],
      "metadata": {
        "trusted": true,
        "_uuid": "5babcf88c5e75de5d297d80390ddbbab579bcebc",
        "editable": false,
        "id": "4IrGdEOBVzUd"
      },
      "outputs": [],
      "execution_count": null
    },
    {
      "cell_type": "code",
      "source": [
        "plt.figure(figsize=(30,20))\n",
        "plt.subplot(5,5,1)\n",
        "img = cv2.imread(TestImagePath)\n",
        "img_1 = cv2.cvtColor(img,cv2.COLOR_BGR2RGB)\n",
        "img = cv2.cvtColor(img_1, cv2.COLOR_RGB2GRAY)\n",
        "img = cv2.cvtColor(img, cv2.COLOR_GRAY2RGB)\n",
        "img = cv2.resize(img, (224, 224))\n",
        "plt.imshow(img)\n",
        "\n",
        "plt.subplot(5,5,1+1)\n",
        "img_ = cv2.cvtColor(img, cv2.COLOR_RGB2Lab)\n",
        "img_[:,:,1:] = Prediction_3\n",
        "img_ = cv2.cvtColor(img_, cv2.COLOR_Lab2RGB)\n",
        "plt.title(\"Predicted Image\")\n",
        "plt.imshow(img_)\n",
        "\n",
        "plt.subplot(5,5,1+2)\n",
        "plt.title(\"Ground truth\")\n",
        "plt.imshow(img_1)"
      ],
      "metadata": {
        "trusted": true,
        "_uuid": "53fd827a3328a023026407facd264f9334318e21",
        "editable": false,
        "id": "9VpgjtizVzUd"
      },
      "outputs": [],
      "execution_count": null
    },
    {
      "cell_type": "code",
      "source": [
        "TestImagePath=\"../input/dataset/dataset_updated/training_set/painting/1601.jpg\"\n",
        "image_for_test = ExtractTestInput(TestImagePath)\n",
        "Prediction_4 = Model_Colourization.predict(image_for_test)\n",
        "Prediction_4 = Prediction_4*128\n",
        "Prediction_4=Prediction_4.reshape(224,224,2)"
      ],
      "metadata": {
        "trusted": true,
        "_uuid": "8220e555b4cd027e87ddf536e40d58168adad5e2",
        "editable": false,
        "id": "3TMRJbGcVzUe"
      },
      "outputs": [],
      "execution_count": null
    },
    {
      "cell_type": "code",
      "source": [
        "plt.figure(figsize=(30,20))\n",
        "plt.subplot(5,5,1)\n",
        "img = cv2.imread(TestImagePath)\n",
        "img_1 = cv2.cvtColor(img,cv2.COLOR_BGR2RGB)\n",
        "img = cv2.cvtColor(img_1, cv2.COLOR_RGB2GRAY)\n",
        "img = cv2.cvtColor(img, cv2.COLOR_GRAY2RGB)\n",
        "img = cv2.resize(img, (224, 224))\n",
        "plt.imshow(img)\n",
        "\n",
        "plt.subplot(5,5,1+1)\n",
        "img_ = cv2.cvtColor(img, cv2.COLOR_RGB2Lab)\n",
        "img_[:,:,1:] = Prediction_4\n",
        "img_ = cv2.cvtColor(img_, cv2.COLOR_Lab2RGB)\n",
        "plt.title(\"Predicted Image\")\n",
        "plt.imshow(img_)\n",
        "\n",
        "plt.subplot(5,5,1+2)\n",
        "plt.title(\"Ground truth\")\n",
        "plt.imshow(img_1)"
      ],
      "metadata": {
        "trusted": true,
        "_uuid": "7cb91509d4062f42df3ef67eba58efac31b0610c",
        "editable": false,
        "id": "kYEN0gw5VzUe"
      },
      "outputs": [],
      "execution_count": null
    },
    {
      "cell_type": "code",
      "source": [
        "TestImagePath=\"../input/dataset/dataset_updated/training_set/painting/1577.jpg\"\n",
        "image_for_test = ExtractTestInput(TestImagePath)\n",
        "Prediction_5 = Model_Colourization.predict(image_for_test)\n",
        "Prediction_5 = Prediction_5*128\n",
        "Prediction_5=Prediction_5.reshape(224,224,2)"
      ],
      "metadata": {
        "trusted": true,
        "_uuid": "92172299797ab66b735c8aaf7e4861e6e260b4de",
        "editable": false,
        "id": "DT2JochtVzUe"
      },
      "outputs": [],
      "execution_count": null
    },
    {
      "cell_type": "code",
      "source": [
        "plt.figure(figsize=(30,20))\n",
        "plt.subplot(5,5,1)\n",
        "img = cv2.imread(TestImagePath)\n",
        "img_1 = cv2.cvtColor(img,cv2.COLOR_BGR2RGB)\n",
        "img = cv2.cvtColor(img_1, cv2.COLOR_RGB2GRAY)\n",
        "img = cv2.cvtColor(img, cv2.COLOR_GRAY2RGB)\n",
        "img = cv2.resize(img, (224, 224))\n",
        "plt.imshow(img)\n",
        "\n",
        "plt.subplot(5,5,1+1)\n",
        "img_ = cv2.cvtColor(img, cv2.COLOR_RGB2Lab)\n",
        "img_[:,:,1:] = Prediction_5\n",
        "img_ = cv2.cvtColor(img_, cv2.COLOR_Lab2RGB)\n",
        "plt.title(\"Predicted Image\")\n",
        "plt.imshow(img_)\n",
        "\n",
        "plt.subplot(5,5,1+2)\n",
        "plt.title(\"Ground truth\")\n",
        "plt.imshow(img_1)"
      ],
      "metadata": {
        "trusted": true,
        "_uuid": "9bb3973d4fcefd6ab3f63b762353b8b09820b087",
        "editable": false,
        "id": "e1FUAwM8VzUe"
      },
      "outputs": [],
      "execution_count": null
    }
  ]
}